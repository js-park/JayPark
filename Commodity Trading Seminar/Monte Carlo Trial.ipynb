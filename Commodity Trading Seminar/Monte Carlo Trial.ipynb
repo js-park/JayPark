{
 "cells": [
  {
   "cell_type": "code",
   "execution_count": 1,
   "metadata": {},
   "outputs": [
    {
     "name": "stderr",
     "output_type": "stream",
     "text": [
      "C:\\ProgramData\\Anaconda3\\lib\\site-packages\\statsmodels\\compat\\pandas.py:56: FutureWarning: The pandas.core.datetools module is deprecated and will be removed in a future version. Please use the pandas.tseries module instead.\n",
      "  from pandas.core import datetools\n"
     ]
    }
   ],
   "source": [
    "import pandas_datareader.data as web\n",
    "import pandas as pd\n",
    "import datetime as dt\n",
    "import numpy as np\n",
    "import matplotlib.pyplot as plt\n",
    "from matplotlib import style\n",
    "import statsmodels.api as sm\n",
    "from statsmodels.tsa.api import VAR, DynamicVAR"
   ]
  },
  {
   "cell_type": "code",
   "execution_count": 2,
   "metadata": {
    "collapsed": true
   },
   "outputs": [],
   "source": [
    "style.use('ggplot')"
   ]
  },
  {
   "cell_type": "code",
   "execution_count": 3,
   "metadata": {},
   "outputs": [
    {
     "data": {
      "text/html": [
       "<div>\n",
       "<style>\n",
       "    .dataframe thead tr:only-child th {\n",
       "        text-align: right;\n",
       "    }\n",
       "\n",
       "    .dataframe thead th {\n",
       "        text-align: left;\n",
       "    }\n",
       "\n",
       "    .dataframe tbody tr th {\n",
       "        vertical-align: top;\n",
       "    }\n",
       "</style>\n",
       "<table border=\"1\" class=\"dataframe\">\n",
       "  <thead>\n",
       "    <tr style=\"text-align: right;\">\n",
       "      <th></th>\n",
       "      <th>Robu_S</th>\n",
       "      <th>Ara_Bra</th>\n",
       "      <th>Brent</th>\n",
       "      <th>C_Inven</th>\n",
       "      <th>ABS1</th>\n",
       "      <th>BRZCASHR</th>\n",
       "    </tr>\n",
       "    <tr>\n",
       "      <th>Date</th>\n",
       "      <th></th>\n",
       "      <th></th>\n",
       "      <th></th>\n",
       "      <th></th>\n",
       "      <th></th>\n",
       "      <th></th>\n",
       "    </tr>\n",
       "  </thead>\n",
       "  <tbody>\n",
       "    <tr>\n",
       "      <th>2017-05-18</th>\n",
       "      <td>-0.009821</td>\n",
       "      <td>-0.031773</td>\n",
       "      <td>-0.000966</td>\n",
       "      <td>0.000693</td>\n",
       "      <td>0.644928</td>\n",
       "      <td>0.072885</td>\n",
       "    </tr>\n",
       "    <tr>\n",
       "      <th>2017-05-19</th>\n",
       "      <td>0.002743</td>\n",
       "      <td>0.025316</td>\n",
       "      <td>0.020481</td>\n",
       "      <td>0.003457</td>\n",
       "      <td>0.644928</td>\n",
       "      <td>-0.033804</td>\n",
       "    </tr>\n",
       "    <tr>\n",
       "      <th>2017-05-22</th>\n",
       "      <td>-0.027675</td>\n",
       "      <td>-0.017064</td>\n",
       "      <td>0.010742</td>\n",
       "      <td>-0.000690</td>\n",
       "      <td>0.644928</td>\n",
       "      <td>0.003874</td>\n",
       "    </tr>\n",
       "    <tr>\n",
       "      <th>2017-05-23</th>\n",
       "      <td>0.007379</td>\n",
       "      <td>0.003483</td>\n",
       "      <td>-0.003004</td>\n",
       "      <td>0.004823</td>\n",
       "      <td>0.644928</td>\n",
       "      <td>0.001439</td>\n",
       "    </tr>\n",
       "    <tr>\n",
       "      <th>2017-05-24</th>\n",
       "      <td>-0.015339</td>\n",
       "      <td>-0.010094</td>\n",
       "      <td>0.001878</td>\n",
       "      <td>0.002060</td>\n",
       "      <td>0.644928</td>\n",
       "      <td>0.002263</td>\n",
       "    </tr>\n",
       "  </tbody>\n",
       "</table>\n",
       "</div>"
      ],
      "text/plain": [
       "              Robu_S   Ara_Bra     Brent   C_Inven      ABS1  BRZCASHR\n",
       "Date                                                                  \n",
       "2017-05-18 -0.009821 -0.031773 -0.000966  0.000693  0.644928  0.072885\n",
       "2017-05-19  0.002743  0.025316  0.020481  0.003457  0.644928 -0.033804\n",
       "2017-05-22 -0.027675 -0.017064  0.010742 -0.000690  0.644928  0.003874\n",
       "2017-05-23  0.007379  0.003483 -0.003004  0.004823  0.644928  0.001439\n",
       "2017-05-24 -0.015339 -0.010094  0.001878  0.002060  0.644928  0.002263"
      ]
     },
     "execution_count": 3,
     "metadata": {},
     "output_type": "execute_result"
    }
   ],
   "source": [
    "test = pd.read_excel('new_daily4test_180.xlsx', index_col=0)\n",
    "test.head()"
   ]
  },
  {
   "cell_type": "code",
   "execution_count": 4,
   "metadata": {},
   "outputs": [
    {
     "data": {
      "text/plain": [
       "Robu_S      0.010269\n",
       "Ara_Bra     0.013814\n",
       "Brent       0.015220\n",
       "C_Inven     0.003195\n",
       "ABS1        0.125858\n",
       "BRZCASHR    0.009409\n",
       "dtype: float64"
      ]
     },
     "execution_count": 4,
     "metadata": {},
     "output_type": "execute_result"
    }
   ],
   "source": [
    "test.std()"
   ]
  },
  {
   "cell_type": "code",
   "execution_count": 5,
   "metadata": {
    "collapsed": true
   },
   "outputs": [],
   "source": [
    "Rob_vol = test['Robu_S'].std()\n",
    "Ara_vol = test['Ara_Bra'].std()\n",
    "Bre_vol = test['Brent'].std()\n",
    "C_I_vol = test['C_Inven'].std()\n",
    "BRL_vol = test['BRZCASHR'].std()\n",
    "ABS_vol=test['ABS1'].std()"
   ]
  },
  {
   "cell_type": "code",
   "execution_count": 6,
   "metadata": {
    "collapsed": true
   },
   "outputs": [],
   "source": [
    "Rob_m = test['Robu_S'].mean()\n",
    "Ara_m = test['Ara_Bra'].mean()\n",
    "Bre_m = test['Brent'].mean()\n",
    "C_I_m = test['C_Inven'].mean()\n",
    "BRL_m = test['BRZCASHR'].mean()\n",
    "ABS_m = test['ABS1'].mean()"
   ]
  },
  {
   "cell_type": "code",
   "execution_count": 7,
   "metadata": {
    "collapsed": true
   },
   "outputs": [],
   "source": [
    "last_Robu_s = 90.23\n",
    "last_Ara = 122.22\n",
    "last_Brent = 52.86\n",
    "last_C_Inven = 1.903\n",
    "last_BRL = 3.2317\n",
    "last_ABS=0.650782911\n",
    "last = [90.23,122.33,52.86,1.903,3.2317,0.6507829]"
   ]
  },
  {
   "cell_type": "code",
   "execution_count": 8,
   "metadata": {
    "collapsed": true
   },
   "outputs": [],
   "source": [
    "# Setting number of simulations\n",
    "num_simulations = 100\n",
    "num_days = 15"
   ]
  },
  {
   "cell_type": "code",
   "execution_count": 9,
   "metadata": {
    "collapsed": true
   },
   "outputs": [],
   "source": [
    "model = VAR(test)\n",
    "results = model.fit(2)"
   ]
  },
  {
   "cell_type": "code",
   "execution_count": 14,
   "metadata": {},
   "outputs": [
    {
     "ename": "AttributeError",
     "evalue": "'numpy.ndarray' object has no attribute 'forecast'",
     "output_type": "error",
     "traceback": [
      "\u001b[1;31m---------------------------------------------------------------------------\u001b[0m",
      "\u001b[1;31mAttributeError\u001b[0m                            Traceback (most recent call last)",
      "\u001b[1;32m<ipython-input-14-e02ae43860b4>\u001b[0m in \u001b[0;36m<module>\u001b[1;34m()\u001b[0m\n\u001b[0;32m      1\u001b[0m \u001b[0mlag_order\u001b[0m \u001b[1;33m=\u001b[0m \u001b[1;36m2\u001b[0m\u001b[1;33m\u001b[0m\u001b[0m\n\u001b[1;32m----> 2\u001b[1;33m \u001b[0mresult\u001b[0m \u001b[1;33m=\u001b[0m \u001b[0mresults\u001b[0m\u001b[1;33m.\u001b[0m\u001b[0mforecast\u001b[0m\u001b[1;33m(\u001b[0m\u001b[0mtest\u001b[0m\u001b[1;33m.\u001b[0m\u001b[0mvalues\u001b[0m\u001b[1;33m[\u001b[0m\u001b[1;33m-\u001b[0m\u001b[0mlag_order\u001b[0m\u001b[1;33m:\u001b[0m\u001b[1;33m]\u001b[0m\u001b[1;33m,\u001b[0m \u001b[1;36m1\u001b[0m\u001b[1;33m)\u001b[0m\u001b[1;33m\u001b[0m\u001b[0m\n\u001b[0m\u001b[0;32m      3\u001b[0m \u001b[0mprint\u001b[0m\u001b[1;33m(\u001b[0m\u001b[0mresult\u001b[0m\u001b[1;33m.\u001b[0m\u001b[0msummary\u001b[0m\u001b[1;33m(\u001b[0m\u001b[1;33m)\u001b[0m\u001b[1;33m)\u001b[0m\u001b[1;33m\u001b[0m\u001b[0m\n\u001b[0;32m      4\u001b[0m \u001b[1;31m#print(result)\u001b[0m\u001b[1;33m\u001b[0m\u001b[1;33m\u001b[0m\u001b[0m\n\u001b[0;32m      5\u001b[0m \u001b[1;31m#print(result[0][0])\u001b[0m\u001b[1;33m\u001b[0m\u001b[1;33m\u001b[0m\u001b[0m\n",
      "\u001b[1;31mAttributeError\u001b[0m: 'numpy.ndarray' object has no attribute 'forecast'"
     ]
    }
   ],
   "source": [
    "lag_order = 2\n",
    "result = results.forecast(test.values[-lag_order:], 1)\n",
    "print(result.summary())\n",
    "#print(result)\n",
    "#print(result[0][0])"
   ]
  },
  {
   "cell_type": "code",
   "execution_count": 15,
   "metadata": {},
   "outputs": [
    {
     "data": {
      "text/html": [
       "<div>\n",
       "<style>\n",
       "    .dataframe thead tr:only-child th {\n",
       "        text-align: right;\n",
       "    }\n",
       "\n",
       "    .dataframe thead th {\n",
       "        text-align: left;\n",
       "    }\n",
       "\n",
       "    .dataframe tbody tr th {\n",
       "        vertical-align: top;\n",
       "    }\n",
       "</style>\n",
       "<table border=\"1\" class=\"dataframe\">\n",
       "  <thead>\n",
       "    <tr style=\"text-align: right;\">\n",
       "      <th></th>\n",
       "      <th>0</th>\n",
       "      <th>1</th>\n",
       "      <th>2</th>\n",
       "      <th>3</th>\n",
       "      <th>4</th>\n",
       "      <th>5</th>\n",
       "    </tr>\n",
       "  </thead>\n",
       "  <tbody>\n",
       "    <tr>\n",
       "      <th>0</th>\n",
       "      <td>0.007217062483413088</td>\n",
       "      <td>0.006551745096844578</td>\n",
       "      <td>-0.0028260034000373926</td>\n",
       "      <td>0.0010310682347061985</td>\n",
       "      <td>0.6545643297195901</td>\n",
       "      <td>-0.0019277804483959398</td>\n",
       "    </tr>\n",
       "  </tbody>\n",
       "</table>\n",
       "</div>"
      ],
      "text/plain": [
       "                      0                     1                       2  \\\n",
       "0  0.007217062483413088  0.006551745096844578  -0.0028260034000373926   \n",
       "\n",
       "                       3                   4                       5  \n",
       "0  0.0010310682347061985  0.6545643297195901  -0.0019277804483959398  "
      ]
     },
     "execution_count": 15,
     "metadata": {},
     "output_type": "execute_result"
    }
   ],
   "source": [
    "df = pd.DataFrame(result, dtype='str')\n",
    "df"
   ]
  },
  {
   "cell_type": "code",
   "execution_count": 16,
   "metadata": {},
   "outputs": [
    {
     "ename": "Exception",
     "evalue": "Data must be 1-dimensional",
     "output_type": "error",
     "traceback": [
      "\u001b[1;31m---------------------------------------------------------------------------\u001b[0m",
      "\u001b[1;31mException\u001b[0m                                 Traceback (most recent call last)",
      "\u001b[1;32m<ipython-input-16-ac9022fa547f>\u001b[0m in \u001b[0;36m<module>\u001b[1;34m()\u001b[0m\n\u001b[1;32m----> 1\u001b[1;33m \u001b[0mresult\u001b[0m \u001b[1;33m=\u001b[0m \u001b[0mpd\u001b[0m\u001b[1;33m.\u001b[0m\u001b[0mSeries\u001b[0m\u001b[1;33m(\u001b[0m\u001b[0mresult\u001b[0m\u001b[1;33m)\u001b[0m\u001b[1;33m\u001b[0m\u001b[0m\n\u001b[0m\u001b[0;32m      2\u001b[0m \u001b[0madding\u001b[0m \u001b[1;33m=\u001b[0m \u001b[0mlast\u001b[0m\u001b[1;33m*\u001b[0m\u001b[0mresult\u001b[0m\u001b[1;33m\u001b[0m\u001b[0m\n\u001b[0;32m      3\u001b[0m \u001b[0mlast\u001b[0m\u001b[1;33m.\u001b[0m\u001b[0mappend\u001b[0m\u001b[1;33m(\u001b[0m\u001b[0madding\u001b[0m\u001b[1;33m)\u001b[0m\u001b[1;33m\u001b[0m\u001b[0m\n\u001b[0;32m      4\u001b[0m \u001b[0mprint\u001b[0m\u001b[1;33m(\u001b[0m\u001b[0mlast\u001b[0m\u001b[1;33m)\u001b[0m\u001b[1;33m\u001b[0m\u001b[0m\n",
      "\u001b[1;32mC:\\ProgramData\\Anaconda3\\lib\\site-packages\\pandas\\core\\series.py\u001b[0m in \u001b[0;36m__init__\u001b[1;34m(self, data, index, dtype, name, copy, fastpath)\u001b[0m\n\u001b[0;32m    246\u001b[0m             \u001b[1;32melse\u001b[0m\u001b[1;33m:\u001b[0m\u001b[1;33m\u001b[0m\u001b[0m\n\u001b[0;32m    247\u001b[0m                 data = _sanitize_array(data, index, dtype, copy,\n\u001b[1;32m--> 248\u001b[1;33m                                        raise_cast_failure=True)\n\u001b[0m\u001b[0;32m    249\u001b[0m \u001b[1;33m\u001b[0m\u001b[0m\n\u001b[0;32m    250\u001b[0m                 \u001b[0mdata\u001b[0m \u001b[1;33m=\u001b[0m \u001b[0mSingleBlockManager\u001b[0m\u001b[1;33m(\u001b[0m\u001b[0mdata\u001b[0m\u001b[1;33m,\u001b[0m \u001b[0mindex\u001b[0m\u001b[1;33m,\u001b[0m \u001b[0mfastpath\u001b[0m\u001b[1;33m=\u001b[0m\u001b[1;32mTrue\u001b[0m\u001b[1;33m)\u001b[0m\u001b[1;33m\u001b[0m\u001b[0m\n",
      "\u001b[1;32mC:\\ProgramData\\Anaconda3\\lib\\site-packages\\pandas\\core\\series.py\u001b[0m in \u001b[0;36m_sanitize_array\u001b[1;34m(data, index, dtype, copy, raise_cast_failure)\u001b[0m\n\u001b[0;32m   3025\u001b[0m     \u001b[1;32melif\u001b[0m \u001b[0msubarr\u001b[0m\u001b[1;33m.\u001b[0m\u001b[0mndim\u001b[0m \u001b[1;33m>\u001b[0m \u001b[1;36m1\u001b[0m\u001b[1;33m:\u001b[0m\u001b[1;33m\u001b[0m\u001b[0m\n\u001b[0;32m   3026\u001b[0m         \u001b[1;32mif\u001b[0m \u001b[0misinstance\u001b[0m\u001b[1;33m(\u001b[0m\u001b[0mdata\u001b[0m\u001b[1;33m,\u001b[0m \u001b[0mnp\u001b[0m\u001b[1;33m.\u001b[0m\u001b[0mndarray\u001b[0m\u001b[1;33m)\u001b[0m\u001b[1;33m:\u001b[0m\u001b[1;33m\u001b[0m\u001b[0m\n\u001b[1;32m-> 3027\u001b[1;33m             \u001b[1;32mraise\u001b[0m \u001b[0mException\u001b[0m\u001b[1;33m(\u001b[0m\u001b[1;34m'Data must be 1-dimensional'\u001b[0m\u001b[1;33m)\u001b[0m\u001b[1;33m\u001b[0m\u001b[0m\n\u001b[0m\u001b[0;32m   3028\u001b[0m         \u001b[1;32melse\u001b[0m\u001b[1;33m:\u001b[0m\u001b[1;33m\u001b[0m\u001b[0m\n\u001b[0;32m   3029\u001b[0m             \u001b[0msubarr\u001b[0m \u001b[1;33m=\u001b[0m \u001b[0m_asarray_tuplesafe\u001b[0m\u001b[1;33m(\u001b[0m\u001b[0mdata\u001b[0m\u001b[1;33m,\u001b[0m \u001b[0mdtype\u001b[0m\u001b[1;33m=\u001b[0m\u001b[0mdtype\u001b[0m\u001b[1;33m)\u001b[0m\u001b[1;33m\u001b[0m\u001b[0m\n",
      "\u001b[1;31mException\u001b[0m: Data must be 1-dimensional"
     ]
    }
   ],
   "source": [
    "result = pd.Series(result)\n",
    "adding = last*result\n",
    "last.append(adding)\n",
    "print(last)"
   ]
  },
  {
   "cell_type": "code",
   "execution_count": null,
   "metadata": {
    "collapsed": true
   },
   "outputs": [],
   "source": [
    "simulation_df_1 = pd.DataFrame()\n",
    "\n",
    "for x in range(num_simulations):\n",
    "    count = 0\n",
    "    Rob_series = []\n",
    "    \n",
    "    model = VAR(test)\n",
    "    results = model.fit(2)\n",
    "    \n",
    "    Rob = last_Robu_s*(1 + np.random.normal(0, Rob_vol))\n",
    "    Rob_series.append(Rob)\n",
    "    \n",
    "    for y in range(num_days):      \n",
    "        if count == 10:\n",
    "            break\n",
    "        lag_order = 2\n",
    "        results.forecast(data.values[-lag_order:], 100)\n",
    "        \n",
    "        Rob = Rob_series[count]*(1 + np.random.normal(0, Rob_vol))\n",
    "        count += 1\n",
    "        \n",
    "    simulation_df[x] = Rob_series"
   ]
  },
  {
   "cell_type": "code",
   "execution_count": null,
   "metadata": {
    "collapsed": true
   },
   "outputs": [],
   "source": [
    "simulation_df_1 = pd.DataFrame()\n",
    "\n",
    "for x in range(num_simulations):\n",
    "    count = 0\n",
    "    Rob_series = []\n",
    "    \n",
    "    model = VAR(test)\n",
    "    results = model.fit(2)\n",
    "    \n",
    "    Rob = last_Robu_s*(1 + np.random.normal(0, Rob_vol))\n",
    "    Rob_series.append(Rob)\n",
    "    \n",
    "    for y in range(num_days):      \n",
    "        if count == 10:\n",
    "            break\n",
    "        lag_order = 2\n",
    "        results.forecast(data.values[-lag_order:], 100)\n",
    "        \n",
    "        Rob = Rob_series[count]*(1 + np.random.normal(0, Rob_vol))\n",
    "        count += 1\n",
    "        \n",
    "    simulation_df[x] = Rob_series"
   ]
  },
  {
   "cell_type": "code",
   "execution_count": null,
   "metadata": {
    "collapsed": true
   },
   "outputs": [],
   "source": [
    "simulation_df_var = pd.DataFrame()\n",
    "\n",
    "for x in range(num_simulations):\n",
    "    count = 0\n",
    "    Rob_Series = []\n",
    "#    Rob_Series.name= 'Robu_S'\n",
    "    Ara_Series = []\n",
    "#    Ara_Series.name = 'Ara_Bra'\n",
    "    Bre_Series = []\n",
    "#    Bre_Series.name = 'Brent'\n",
    "    C_I_Series = []\n",
    "#    C_I_Series.name = 'C_Inven'\n",
    "    BRL_Series = []\n",
    "#    BRL_Series.name = 'BRZCASHR'\n",
    "    ABS_Series = []\n",
    "#    ABS_Series.name = 'ABS_1'\n",
    "    \n",
    "#    Rob = last_Robu_s*(1 + np.random.normal(Rob_m, Rob_vol))\n",
    "#    Ara = last_Ara*(1+np.random.normal(Ara_m, Ara_vol))\n",
    "#    Bre = last_Brent*(1+np.random.normal(Bre_m, Bre_vol))\n",
    "#    C_I = last_C_Inven*(1+np.random.normal(C_I_m, C_I_vol))\n",
    "#    BRL = last_BRL*(1+np.random.normal(BRL_m,BRL_vol))\n",
    "#    ABS = last_ABS*(1+np.random.normal(0, ABS_vol))\n",
    "    \n",
    "#    Rob_Series.append(Rob)\n",
    "#    Ara_Series.append(Ara)\n",
    "#    Bre_Series.append(Bre)\n",
    "#    C_I_Series.append(C_I)\n",
    "#    BRL_Series.append(BRL)\n",
    "#    ABS_Series.append(ABS)\n",
    "    \n",
    "    for y in range(16):      \n",
    "        if count == 100:\n",
    "            break\n",
    "        model = VAR(test)\n",
    "        results = model.fit(2)\n",
    "        lag_order = 2\n",
    "        result = results.forecast(test.values[-lag_order:], 1)\n",
    "        \n",
    "        rs = result[0][0]\n",
    "        test['Robu_S'].append(rs)\n",
    "        test['Ara_Bra'].append(result[0][1])\n",
    "        test['Brent'].append(result[0][2])\n",
    "        test['C_Inven'].append(result[0][3])\n",
    "        test['ABS1'].append(result[0][4])\n",
    "        test['BRZCASHR'].append(result[0][5])\n",
    "                \n",
    "#        Rob = last_Robu_s*(1 + result[0][0])\n",
    "#        Ara = last_Ara*(1+result[0][1])\n",
    " #       Bre = last_Brent*(1+result[0][2])\n",
    "#        C_I = last_C_Inven*(1+result[0][3])\n",
    "#        ABS = last_ABS*(1+result[0][4])\n",
    "#        BRL = last_BRL*(1+result[0][5])\n",
    "        \n",
    "#        Rob_Series.append(Rob)\n",
    "        count += 1\n",
    "        \n",
    "    simulation_df_var[x] = Rob_series\n"
   ]
  },
  {
   "cell_type": "code",
   "execution_count": null,
   "metadata": {
    "collapsed": true
   },
   "outputs": [],
   "source": [
    "simulation_df = pd.DataFrame()\n",
    "simulation_return = pd.DataFrame()\n",
    "\n",
    "Rob_series = []\n",
    "\n",
    "for x in range(num_simulations):\n",
    "    count = 0\n",
    "    Rob_series = []\n",
    "    Return_series = []\n",
    "    Rob_series.append(last_Robu_s)\n",
    "    \n",
    "    for y in range(num_days):      \n",
    "        if count == 251:\n",
    "            break\n",
    "        diff1 = (1+np.random.normal(0, 0.0095875))\n",
    "        Rob = Rob_series[count] * diff1\n",
    "        Rob_series.append(Rob)\n",
    "        Return_series.append(diff1)\n",
    "        count += 1\n",
    "        \n",
    "    simulation_df[x] = Rob_series\n",
    "    simulation_return[x] = Return_series\n",
    "    "
   ]
  },
  {
   "cell_type": "code",
   "execution_count": null,
   "metadata": {
    "collapsed": true
   },
   "outputs": [],
   "source": [
    "# For Silver\n",
    "simulation_Silver = pd.DataFrame()\n",
    "simulation_Silver_coff = pd.DataFrame()\n",
    "last_silver = 16.58\n",
    "\n",
    "for x in range(num_simulations):\n",
    "    count = 0\n",
    "    \n",
    "    Silver_Series = []\n",
    "    Silver_Series.append(last_silver)\n",
    "    Coff_Series = []\n",
    "    Coff_Series.append(0)\n",
    "    \n",
    "    \n",
    "    for y in range(num_days):      \n",
    "        if count == 251:\n",
    "            break\n",
    "        coff = (-0.1070214)*np.random.normal(-0.0004364, 0.0108862)+(0.0537843)*np.random.normal(-0.0004364, 0.0108862)+ (0.066033)*np.random.normal(0.0005625,0.0099739)+(0.1447204)*np.random.normal(0.0005625,0.0099739)+ (-0.069712)*np.random.normal(0.0091379,0.031248)+(0.0578324)*np.random.normal(0.0091379,0.031248)+ (-0.038584)*np.random.normal(0.0013793,0.0238745)+(0.0076352)*np.random.normal(0.0013793,0.0238745)+ (-0.1184262)*np.random.normal(-0.0003334,0.0031437)+(-0.0895041)*np.random.normal(-0.0003334,0.0031437)+np.random.normal(0,0.0089507)\n",
    "        coff = np.exp(coff)\n",
    "        Sil = Silver_Series[count]*coff\n",
    "        Silver_Series.append(Sil)\n",
    "        Coff_Series.append(coff)\n",
    "        count += 1\n",
    "        \n",
    "    simulation_Silver[x] = Silver_Series\n",
    "    simulation_Silver_coff[x] = Coff_Series"
   ]
  },
  {
   "cell_type": "code",
   "execution_count": null,
   "metadata": {},
   "outputs": [],
   "source": [
    "simulation_Silver_coff"
   ]
  },
  {
   "cell_type": "code",
   "execution_count": null,
   "metadata": {},
   "outputs": [],
   "source": [
    "simulation_Silver"
   ]
  },
  {
   "cell_type": "code",
   "execution_count": null,
   "metadata": {
    "collapsed": true
   },
   "outputs": [],
   "source": [
    "writer = pd.ExcelWriter('Silver_VAR_MC_Python.xlsx')\n",
    "simulation_Silver.to_excel(writer,'Sheet1')\n",
    "writer.save()"
   ]
  },
  {
   "cell_type": "code",
   "execution_count": null,
   "metadata": {
    "collapsed": true
   },
   "outputs": [],
   "source": [
    "simulation_df_var"
   ]
  },
  {
   "cell_type": "code",
   "execution_count": null,
   "metadata": {
    "collapsed": true
   },
   "outputs": [],
   "source": [
    "simulation_df.tail()"
   ]
  },
  {
   "cell_type": "code",
   "execution_count": null,
   "metadata": {
    "collapsed": true
   },
   "outputs": [],
   "source": [
    "fig = plt.figure()\n",
    "plt.plot(simulation_df)\n",
    "plt.show()"
   ]
  },
  {
   "cell_type": "code",
   "execution_count": null,
   "metadata": {
    "collapsed": true
   },
   "outputs": [],
   "source": [
    "fig = plt.figure()\n",
    "plt.plot(simulation_df_var)\n",
    "plt.show()"
   ]
  },
  {
   "cell_type": "code",
   "execution_count": null,
   "metadata": {
    "collapsed": true
   },
   "outputs": [],
   "source": [
    "fig = plt.figure()\n",
    "plt.plot(simulation_df)\n",
    "plt.show()"
   ]
  },
  {
   "cell_type": "code",
   "execution_count": null,
   "metadata": {
    "collapsed": true
   },
   "outputs": [],
   "source": [
    "fig = plt.figure()\n",
    "plt.plot(simulation_df)\n",
    "plt.show()"
   ]
  },
  {
   "cell_type": "code",
   "execution_count": null,
   "metadata": {
    "collapsed": true
   },
   "outputs": [],
   "source": [
    "fig = plt.figure()\n",
    "fig.suptitle('Monte Carlo AAPL')\n",
    "plt.plot(simulation_df)\n",
    "plt.axhline(y=last_price, color='r', linestyle='-')\n",
    "plt.xlabel('Day')\n",
    "plt.ylabel('Price')\n",
    "plt.show()"
   ]
  },
  {
   "cell_type": "code",
   "execution_count": null,
   "metadata": {
    "collapsed": true
   },
   "outputs": [],
   "source": [
    "a = pd.Series([1,2,3])\n",
    "a.name= 'A'\n",
    "b = pd.Series([4,5,6])\n",
    "b.name='B'"
   ]
  },
  {
   "cell_type": "code",
   "execution_count": null,
   "metadata": {
    "collapsed": true
   },
   "outputs": [],
   "source": [
    "pd.concat([a, b], axis=1)"
   ]
  },
  {
   "cell_type": "code",
   "execution_count": null,
   "metadata": {
    "collapsed": true
   },
   "outputs": [],
   "source": [
    "x =0.012400"
   ]
  },
  {
   "cell_type": "code",
   "execution_count": null,
   "metadata": {
    "collapsed": true
   },
   "outputs": [],
   "source": [
    "y = np.exp(x)"
   ]
  },
  {
   "cell_type": "code",
   "execution_count": null,
   "metadata": {},
   "outputs": [],
   "source": [
    "print (x)\n",
    "print (y)"
   ]
  },
  {
   "cell_type": "code",
   "execution_count": null,
   "metadata": {
    "collapsed": true
   },
   "outputs": [],
   "source": []
  }
 ],
 "metadata": {
  "kernelspec": {
   "display_name": "Python 3",
   "language": "python",
   "name": "python3"
  },
  "language_info": {
   "codemirror_mode": {
    "name": "ipython",
    "version": 3
   },
   "file_extension": ".py",
   "mimetype": "text/x-python",
   "name": "python",
   "nbconvert_exporter": "python",
   "pygments_lexer": "ipython3",
   "version": "3.6.3"
  }
 },
 "nbformat": 4,
 "nbformat_minor": 2
}
